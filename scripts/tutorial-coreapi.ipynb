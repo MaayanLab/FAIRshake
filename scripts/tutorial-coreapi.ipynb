{
 "cells": [
  {
   "cell_type": "markdown",
   "metadata": {},
   "source": [
    "# Using FAIRshake API\n",
    "\n",
    "This notebook walks through using FAIRshake API with coreapi's python implementation, it works just as easily in javascript or any language with a coreapi implementation. Given that swagger is also exposed at <https://fairshake.cloud/?format=openapi>, a swagger-based client can *also* be used.\n",
    "\n",
    "For more information, refer to the documentation at https://fairshake.cloud/coreapi/\n",
    "\n",
    "Dependencies:\n",
    "`pip install coreapi-cli`"
   ]
  },
  {
   "cell_type": "code",
   "execution_count": null,
   "metadata": {},
   "outputs": [],
   "source": [
    "import coreapi\n",
    "\n",
    "client = coreapi.Client()\n",
    "\n",
    "url = 'https://fairshake.cloud/'\n",
    "\n",
    "schema = client.get('https://fairshake.cloud/coreapi/')"
   ]
  },
  {
   "cell_type": "markdown",
   "metadata": {},
   "source": [
    "## Step 1. Authentication"
   ]
  },
  {
   "cell_type": "markdown",
   "metadata": {},
   "source": [
    "If you don't already have a user registered with FAIRshake, you need to create one.\n",
    "\n",
    "This can be done manually at <https://fairshake.cloud/accounts/signup/>.\n",
    "\n",
    "Your API Key is available at <https://fairshake.cloud/accounts/api_access/>\n",
    "\n",
    "**Note**: Authentication is only required if you plan on *creating*/*changing* things. Read-access is available without authentication."
   ]
  },
  {
   "cell_type": "code",
   "execution_count": null,
   "metadata": {},
   "outputs": [],
   "source": [
    "# Put your API Key in this string\n",
    "api_key = ''"
   ]
  },
  {
   "cell_type": "markdown",
   "metadata": {},
   "source": [
    "Now that we have our API key, we can reinstantiate our Client with an authenticated transport layer."
   ]
  },
  {
   "cell_type": "code",
   "execution_count": null,
   "metadata": {},
   "outputs": [],
   "source": [
    "client = coreapi.Client(auth=coreapi.auth.TokenAuthentication(token=api_key, scheme='token'))\n",
    "schema = client.get('https://fairshake.cloud/coreapi/')"
   ]
  },
  {
   "cell_type": "markdown",
   "metadata": {},
   "source": [
    "We can test that it worked by reading information about the logged in user."
   ]
  },
  {
   "cell_type": "code",
   "execution_count": null,
   "metadata": {},
   "outputs": [],
   "source": [
    "client.action(\n",
    "    schema,\n",
    "    ['auth', 'user', 'read'],\n",
    ")"
   ]
  },
  {
   "cell_type": "markdown",
   "metadata": {},
   "source": [
    "## Step 2. Project, Digital Object, Rubric, Metric Management"
   ]
  },
  {
   "cell_type": "markdown",
   "metadata": {},
   "source": [
    "All elements expose themselves in the same way with a common set of attributes for search and identification with a few extra attributes distinguishing each element.\n",
    "\n",
    "Here, quite simply, is the gist of these data models:\n",
    "\n",
    "```python\n",
    "class Identifiable:\n",
    "  id: int\n",
    "  url: str\n",
    "  title: str\n",
    "  description: str\n",
    "  image: str\n",
    "  tags: str\n",
    "  type: ['', 'any', 'data', 'repo', 'test', 'tool']\n",
    "  authors: Author[]\n",
    "\n",
    "class Project(Identifiable):\n",
    "  digital_objects: DigitalObject[]\n",
    "\n",
    "class DigitalObject(Identifiable):\n",
    "  rubrics: Rubric[]\n",
    "\n",
    "class Rubric(Identifiable):\n",
    "  license: str\n",
    "  metrics: Metric[]\n",
    "\n",
    "class Metric(Identifiable):\n",
    "  license: str\n",
    "  rationale: str\n",
    "  principle: str\n",
    "  fairmetrics: str\n",
    "  fairsharing: str\n",
    "```\n",
    "\n",
    "Queries can be made by providing any of the parameters and we'll return the subset of the database which satisfies those parameter constraints. Though you use `title=something` we do a fuzzy search if it makes sense to do so. More find-tuned queries are actually supported by the API but not yet documented which would allow for django-style filters e.g. `title__contains=something`.\n",
    "\n",
    "**Note**: Results are paginated; use `params={'page': n}` to go through pages"
   ]
  },
  {
   "cell_type": "code",
   "execution_count": null,
   "metadata": {},
   "outputs": [],
   "source": [
    "# List all projects\n",
    "client.action(schema, ['project', 'list'])"
   ]
  },
  {
   "cell_type": "code",
   "execution_count": null,
   "metadata": {},
   "outputs": [],
   "source": [
    "# List all Digital objects of type Tool\n",
    "client.action(schema, ['digital_object', 'list'], params=dict(type='tool'))"
   ]
  },
  {
   "cell_type": "code",
   "execution_count": null,
   "metadata": {},
   "outputs": [],
   "source": [
    "# Create a metric\n",
    "metric = client.action(schema, ['metric', 'create'], params=dict(\n",
    "  title='My Metric',\n",
    "  description='It has a url',\n",
    "  type='url',\n",
    "  tags='my project test',\n",
    "  license='MIT',\n",
    "  rationale='https://fairrationals.com/test',\n",
    "  principle='F',\n",
    "))\n",
    "metric_id = metric['id']\n",
    "metric"
   ]
  },
  {
   "cell_type": "code",
   "execution_count": null,
   "metadata": {},
   "outputs": [],
   "source": [
    "# Create a rubric\n",
    "rubric = client.action(schema, ['rubric', 'create'], params=dict(\n",
    "  title='My Rubric',\n",
    "  description='Rubric is great',\n",
    "  tags='my project test',\n",
    "  type='tool',\n",
    "  license='MIT',\n",
    "  metrics=[\n",
    "      metric_id,\n",
    "  ],\n",
    "))\n",
    "rubric_id = rubric['id']\n",
    "rubric"
   ]
  },
  {
   "cell_type": "code",
   "execution_count": null,
   "metadata": {},
   "outputs": [],
   "source": [
    "# Create a project\n",
    "proj = client.action(schema, ['project', 'create'], params=dict(\n",
    "  url='http://my-objects.com',\n",
    "  title='My Project',\n",
    "  description='Project is great',\n",
    "  tags='my project test',\n",
    "))\n",
    "proj_id = proj['id']\n",
    "proj"
   ]
  },
  {
   "cell_type": "code",
   "execution_count": null,
   "metadata": {},
   "outputs": [],
   "source": [
    "# Create a digital object\n",
    "obj = client.action(schema, ['digital_object', 'create'], params=dict(\n",
    "  url='http://my-objects.com/00001',\n",
    "  title='My Object',\n",
    "  description='Object is great',\n",
    "  tags='my object test',\n",
    "  type='tool',\n",
    "  rubrics=[rubric_id],\n",
    "  projects=[proj_id],\n",
    "))\n",
    "obj_id = obj['id']\n",
    "obj"
   ]
  },
  {
   "cell_type": "markdown",
   "metadata": {},
   "source": [
    "# Performing Assessments\n",
    "\n",
    "```python\n",
    "class Assessment:\n",
    "  project: Project\n",
    "  target: DigitalObject\n",
    "  rubric: Rubric\n",
    "  methodology: ['self', 'user', 'auto', 'test']\n",
    "  answers: Answer[]\n",
    "\n",
    "class Answer:\n",
    "  metric: Metric\n",
    "  answer: float\n",
    "  comment: str\n",
    "  url_comment: str\n",
    "```"
   ]
  },
  {
   "cell_type": "code",
   "execution_count": null,
   "metadata": {},
   "outputs": [],
   "source": [
    "# Create an assessment\n",
    "client.action(schema, ['assessment', 'create'], params=dict(\n",
    "  project=proj_id,\n",
    "  target=obj_id,\n",
    "  rubric=rubric_id,\n",
    "  methodology='test',\n",
    "  answers=[\n",
    "      {\n",
    "          'metric': metric_id,\n",
    "          'answer': 1.0, # A number between 0 and 1 representing satisfaction of metric\n",
    "          'url_comment': 'http://my_url.com',\n",
    "      },\n",
    "  ],\n",
    "))"
   ]
  },
  {
   "cell_type": "markdown",
   "metadata": {},
   "source": [
    "## Obtaining the score of a Digital Object"
   ]
  },
  {
   "cell_type": "code",
   "execution_count": null,
   "metadata": {},
   "outputs": [],
   "source": [
    "score = client.action(schema, ['score', 'list'], params=dict(target=obj_id))\n",
    "score"
   ]
  },
  {
   "cell_type": "markdown",
   "metadata": {},
   "source": [
    "## Displaying FAIR insignia"
   ]
  },
  {
   "cell_type": "markdown",
   "metadata": {},
   "source": [
    "The insignia client library exposes a function, `build_svg_from_score` which accepts a container and the query dict."
   ]
  },
  {
   "cell_type": "code",
   "execution_count": null,
   "metadata": {},
   "outputs": [],
   "source": [
    "import json\n",
    "from IPython.display import display, HTML\n",
    "HTML(\"\"\"\n",
    "<div\n",
    "    id=\"insignia\"\n",
    "    data-target=\"%s\"\n",
    "    style=\"width: 40px; height: 40px; border: 0px solid black\" />\n",
    "\"\"\" % (obj_id))"
   ]
  },
  {
   "cell_type": "code",
   "execution_count": null,
   "metadata": {},
   "outputs": [],
   "source": [
    "%%javascript\n",
    "require(['https://fairshake.cloud/static/scripts/insignia.js'], function(insignia) {\n",
    "    var element = document.getElementById('insignia')\n",
    "    insignia.build_svg_from_score(\n",
    "        element,\n",
    "        { target: element.getAttribute('data-target') }\n",
    "    )\n",
    "})"
   ]
  },
  {
   "cell_type": "markdown",
   "metadata": {},
   "source": [
    "## Delete test objects"
   ]
  },
  {
   "cell_type": "code",
   "execution_count": null,
   "metadata": {},
   "outputs": [],
   "source": [
    "# Delete test objects\n",
    "result = client.action(schema, ['digital_object', 'delete'], params=dict(id=obj_id))\n",
    "display(result)\n",
    "result = client.action(schema, ['project', 'delete'], params=dict(id=proj_id))\n",
    "display(result)\n",
    "result = client.action(schema, ['rubric', 'delete'], params=dict(id=rubric_id))\n",
    "display(result)\n",
    "result = client.action(schema, ['metric', 'delete'], params=dict(id=metric_id))\n",
    "display(result)"
   ]
  }
 ],
 "metadata": {
  "kernelspec": {
   "display_name": "Python 3 (ipykernel)",
   "language": "python",
   "name": "python3"
  },
  "language_info": {
   "codemirror_mode": {
    "name": "ipython",
    "version": 3
   },
   "file_extension": ".py",
   "mimetype": "text/x-python",
   "name": "python",
   "nbconvert_exporter": "python",
   "pygments_lexer": "ipython3",
   "version": "3.9.7"
  }
 },
 "nbformat": 4,
 "nbformat_minor": 2
}
